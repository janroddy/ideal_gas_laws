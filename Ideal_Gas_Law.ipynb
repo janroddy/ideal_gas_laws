{
 "cells": [
  {
   "cell_type": "markdown",
   "metadata": {},
   "source": [
    "<h1 style=\"padding:10px; text-align: center\">The Ideal Gas Law</h1>\n",
    "<div style=\"background-color: #BCDBF5 ; padding: 10px;\">\n",
    "    \n",
    " <h2>The Ideal Gas Law Equation: $PV=nRT$ </h2>\n",
    "\n",
    " <h2>Variables in the Ideal Gas Law equation</h2>\n",
    "\n",
    " <ul>\n",
    "  <li>P = pressure in pascals (Pa)</li>\n",
    "  <li>V = volume in liters (L)</li>\n",
    "  <li>n = number of moles  (mol)</li>\n",
    "  <li>T = temperature in degrees Kelvin (K)</li>\n",
    " </ul> \n",
    "  \n",
    "</div>"
   ]
  },
  {
   "cell_type": "markdown",
   "metadata": {},
   "source": [
    " <h2 style= \"padding: 15px; text-align: center\">Use the ideal gas law to solve the following problems:</h2>\n",
    "\n",
    "<div style=\"background-color: #c1e8c3 ; padding: 10px;\">\n",
    " <h3><b>exercise 1:</b></h3>\n",
    "<p>If I have 4 moles of a gas at a pressure of 5.6 atm and a volume of 12 liters, what is the temperature?</p>  \n",
    "</div>"
   ]
  },
  {
   "cell_type": "markdown",
   "metadata": {},
   "source": [
    "<div style=\"background-color: #BCDBF5 ; padding: 10px;\">\n",
    "    <h2>Instructions:</h2>\n",
    "\n",
    "1. Take a look at the code it the cell below. \n",
    "2. Find a variable in the code.\n",
    "3. Identify a comment in the code. \n",
    "4. Run the cell and check the output.\n",
    "</div>"
   ]
  },
  {
   "cell_type": "code",
   "execution_count": 26,
   "metadata": {},
   "outputs": [
    {
     "name": "stdout",
     "output_type": "stream",
     "text": [
      "T = 205 degrees K\n"
     ]
    }
   ],
   "source": [
    "R = 0.0821 #constant in the ideal gas law equation\n",
    "P = 5.6\n",
    "V = 12\n",
    "n = 4\n",
    "\n",
    "#PV=nRT\n",
    "#solve for T \n",
    "T = (P*V)/(R*n)\n",
    "\n",
    "print(f\"T = {T:.0f} degrees K\")"
   ]
  },
  {
   "cell_type": "markdown",
   "metadata": {},
   "source": [
    "<div style=\"background-color: #c1e8c3 ; padding: 10px;\">\n",
    " <h3><b>exercise 2:</b></h3>\n",
    "<p>If I have an unknown quantity of gas at a pressure of 1.2 atm, a volume of 31 liters, and a temperature of 87 0C, how many moles of gas do I have?</p>  \n",
    "</div>"
   ]
  },
  {
   "cell_type": "markdown",
   "metadata": {},
   "source": [
    "<div style=\"background-color: #BCDBF5 ; padding: 10px;\">\n",
    "    <h2>Instructions:</h2>\n",
    "\n",
    "1. Fill in the values for P, V, and T on lines 2 - 4 based on exercise 2.\n",
    "2. Run the cell and check the output.\n",
    "3. Solve the equation by hand or with a calculator and compare the answers. If it is not the same then check with a classmate and together try to figure it out.      \n",
    "</div>"
   ]
  },
  {
   "cell_type": "code",
   "execution_count": 27,
   "metadata": {},
   "outputs": [
    {
     "name": "stdout",
     "output_type": "stream",
     "text": [
      "n = 1.26 moles\n"
     ]
    }
   ],
   "source": [
    "R = 0.0821 #constant in the ideal gas law equation\n",
    "P = 1.2\n",
    "V = 31 \n",
    "T = 87 + 273.15\n",
    "\n",
    "#PV=nRT\n",
    "#solve for n\n",
    "n = (P*V)/(R*T)\n",
    "\n",
    "print(f\"n = {n:.2f} moles\")"
   ]
  },
  {
   "cell_type": "markdown",
   "metadata": {},
   "source": [
    "<div style=\"background-color: #c1e8c3 ; padding: 10px;\">\n",
    " <h3><b>exercise 3:</b></h3>\n",
    "<p>If I contain 3 moles of gas in a container with a volume of 60 liters and at a temperature of 400 K, what is the pressure inside the container?  </p>  \n",
    "</div>"
   ]
  },
  {
   "cell_type": "markdown",
   "metadata": {},
   "source": [
    "<div style=\"background-color: #BCDBF5 ; padding: 10px;\">\n",
    "    <h2>Instructions:</h2>\n",
    "\n",
    "1. Take a look at lines 2 and 3.  What do you think this code does?\n",
    "2. Fill in the variables on lines 5-8.     \n",
    "3. Check the answers again on paper.      \n",
    "</div>"
   ]
  },
  {
   "cell_type": "code",
   "execution_count": 20,
   "metadata": {},
   "outputs": [
    {
     "name": "stdout",
     "output_type": "stream",
     "text": [
      "P = 1.64 atm. and 166.38 kPa\n"
     ]
    }
   ],
   "source": [
    "#function to convert standard atmospheres to kiloPascals \n",
    "def atm_to_kPa(atm):\n",
    "    return atm * 101.325\n",
    "\n",
    "R = 0.0821 #constant in the ideal gas law equation\n",
    "V = 60\n",
    "n = 3\n",
    "T = 400\n",
    "\n",
    "#PV=nRT\n",
    "#solve for P\n",
    "P = (n*R*T)/V\n",
    "\n",
    "print(f\"P = {P:.2f} atm. and {atm_to_kPa(P):.2f} kPa\")"
   ]
  },
  {
   "cell_type": "markdown",
   "metadata": {},
   "source": [
    "<div style=\"background-color: #c1e8c3 ; padding: 10px;\">\n",
    " <h3><b>exercise 4:</b></h3>\n",
    "<p>If I have 7.7 moles of gas at a pressure of 0.09 atm and at a temperature of 56 0C, what is the volume of the container that the gas is in?</p>  \n",
    "</div>"
   ]
  },
  {
   "cell_type": "markdown",
   "metadata": {},
   "source": [
    "<div style=\"background-color: #BCDBF5 ; padding: 10px;\">\n",
    "    <h2>Instructions:</h2>\n",
    "\n",
    "1.      \n",
    "</div>"
   ]
  },
  {
   "cell_type": "code",
   "execution_count": 28,
   "metadata": {},
   "outputs": [
    {
     "name": "stdout",
     "output_type": "stream",
     "text": [
      "P = 6.71 atm. and 680.12 kPa\n"
     ]
    }
   ],
   "source": [
    "#function to convert degrees Celcius to degrees Kelvin\n",
    "def C_to_K(deg_C):\n",
    "    return deg_C + 273.15\n",
    "\n",
    "#function to convert standard atmospheres to kiloPascals \n",
    "def atm_to_kPa(atm):\n",
    "    return atm * 101.325\n",
    "\n",
    "R = 0.0821 #constant in the ideal gas law equation\n",
    "P = 0.09\n",
    "n = 7.7\n",
    "T = C_to_K(56)\n",
    "\n",
    "#PV=nRT\n",
    "#solve for P\n",
    "P = (n*R*T)/V\n",
    "\n",
    "print(f\"P = {P:.2f} atm. and {atm_to_kPa(P):.2f} kPa\")"
   ]
  },
  {
   "cell_type": "markdown",
   "metadata": {},
   "source": [
    "<div style=\"background-color: #c1e8c3 ; padding: 10px;\">\n",
    " <h3><b>exercise 5:</b></h3>\n",
    "<p>If I have 17 moles of gas at a temperature of 67 0C, and a volume of 88.89 liters, what is the pressure of the gas?</p>  \n",
    "</div>"
   ]
  },
  {
   "cell_type": "code",
   "execution_count": 25,
   "metadata": {
    "scrolled": true
   },
   "outputs": [
    {
     "name": "stdout",
     "output_type": "stream",
     "text": [
      "T = 76.43 degrees K.\n"
     ]
    }
   ],
   "source": [
    "#function to convert degrees Celcius to degrees Kelvin\n",
    "def C_to_K(deg_C):\n",
    "    return deg_C + 273.15\n",
    "\n",
    "#function to convert standard atmospheres to kiloPascals \n",
    "def atm_to_kPa(atm):\n",
    "    return atm * 101.325\n",
    "\n",
    "V = 88.89\n",
    "n = 17\n",
    "T = C_to_K(67)\n",
    "\n",
    "#PV=nRT\n",
    "#solve for T\n",
    "T = (P*V)/(R*n)\n",
    "\n",
    "print(f\"T = {T:.2f} degrees K.\")"
   ]
  },
  {
   "cell_type": "markdown",
   "metadata": {},
   "source": [
    "<div style=\"background-color: #c1e8c3 ; padding: 10px;\">\n",
    " <h3><b>exercise :</b></h3>\n",
    "<p></p>  \n",
    "</div>\n",
    "\n",
    "A = 2310 L"
   ]
  },
  {
   "cell_type": "markdown",
   "metadata": {},
   "source": [
    "\n",
    "6. If I have an unknown quantity of gas at a pressure of 0.5 atm, a volume of 25 liters, and a temperature of 300 K, how many moles of gas do I have?\n",
    "\t0.51 moles"
   ]
  },
  {
   "cell_type": "markdown",
   "metadata": {},
   "source": [
    "<div style=\"background-color: #BCDBF5 ; padding: 10px;\">\n",
    "    <h2>Instructions:</h2>\n",
    "\n",
    "1. \n",
    "</div>"
   ]
  },
  {
   "cell_type": "code",
   "execution_count": 9,
   "metadata": {},
   "outputs": [
    {
     "name": "stdout",
     "output_type": "stream",
     "text": [
      "n = 0.51 moles.\n"
     ]
    }
   ],
   "source": [
    "P = .5\n",
    "V = 25\n",
    "T = 300\n",
    "n = (P*V)/(R*T)\n",
    "print(f\"n = {n:.2f} moles.\")"
   ]
  },
  {
   "cell_type": "markdown",
   "metadata": {},
   "source": [
    "<div style=\"background-color: #c1e8c3 ; padding: 10px;\">\n",
    " <h3><b>exercise :</b></h3>\n",
    "<p></p>  \n",
    "</div>\n",
    "\n",
    "A = 2310 L"
   ]
  },
  {
   "cell_type": "markdown",
   "metadata": {},
   "source": [
    "7)\tIf I have 21 moles of gas held at a pressure of 78 atm and a temperature of 900 K, what is the volume of the gas?  19.9 L"
   ]
  },
  {
   "cell_type": "markdown",
   "metadata": {},
   "source": [
    "<div style=\"background-color: #BCDBF5 ; padding: 10px;\">\n",
    "    <h2>Instructions:</h2>\n",
    "\n",
    "1. \n",
    "</div>"
   ]
  },
  {
   "cell_type": "code",
   "execution_count": 12,
   "metadata": {},
   "outputs": [
    {
     "name": "stdout",
     "output_type": "stream",
     "text": [
      "V = 19.89 liters.\n"
     ]
    }
   ],
   "source": [
    "P = 78\n",
    "n = 21   \n",
    "T = 900\n",
    "V = (n*R*T)/P\n",
    "print(f\"V = {V:.2f} liters.\")"
   ]
  },
  {
   "cell_type": "markdown",
   "metadata": {},
   "source": [
    "<div style=\"background-color: #c1e8c3 ; padding: 10px;\">\n",
    " <h3><b>exercise :</b></h3>\n",
    "<p></p>  \n",
    "</div>\n",
    "\n",
    "A = 2310 L"
   ]
  },
  {
   "cell_type": "markdown",
   "metadata": {},
   "source": [
    "8.\tIf I have 1.9 moles of gas held at a pressure of 5 atm and in a container with a volume of 50 liters, what is the temperature of the gas?  1603 K"
   ]
  },
  {
   "cell_type": "markdown",
   "metadata": {},
   "source": [
    "<div style=\"background-color: #BCDBF5 ; padding: 10px;\">\n",
    "    <h2>Instructions:</h2>\n",
    "\n",
    "1. \n",
    "</div>"
   ]
  },
  {
   "cell_type": "code",
   "execution_count": 14,
   "metadata": {},
   "outputs": [
    {
     "name": "stdout",
     "output_type": "stream",
     "text": [
      "T = 1603 degrees K.\n"
     ]
    }
   ],
   "source": [
    "P = 5\n",
    "V = 50\n",
    "n = 1.9\n",
    "T = (P*V)/(R*n)\n",
    "print(f\"T = {T:.0f} degrees K.\")"
   ]
  },
  {
   "cell_type": "markdown",
   "metadata": {},
   "source": [
    "<div style=\"background-color: #c1e8c3 ; padding: 10px;\">\n",
    " <h3><b>exercise :</b></h3>\n",
    "<p></p>  \n",
    "</div>\n",
    "\n",
    "A = 2310 L"
   ]
  },
  {
   "cell_type": "markdown",
   "metadata": {},
   "source": [
    "9. If I have 2.4 moles of gas held at a temperature of 97 0C and in a container with a volume of 45 liters, what is the pressure of the gas?\n",
    "\t1.62 atm   164 kPa\n"
   ]
  },
  {
   "cell_type": "markdown",
   "metadata": {},
   "source": [
    "<div style=\"background-color: #BCDBF5 ; padding: 10px;\">\n",
    "    <h2>Instructions:</h2>\n",
    "\n",
    "1. \n",
    "</div>"
   ]
  },
  {
   "cell_type": "code",
   "execution_count": 15,
   "metadata": {},
   "outputs": [
    {
     "name": "stdout",
     "output_type": "stream",
     "text": [
      "1.6207634666666668\n",
      "P = 1.62 atm and 164.22\n"
     ]
    }
   ],
   "source": [
    "def atm_to_kPa(atm):\n",
    "    return atm * 101.325\n",
    "\n",
    "V = 45\n",
    "n = 2.4\n",
    "T = C_to_K(97)\n",
    "\n",
    "P = (n*R*T)/V\n",
    "\n",
    "print(P)\n",
    "print(f\"P = {P:.2f} atm and {atm_to_kPa(P):.2f}\")"
   ]
  },
  {
   "cell_type": "markdown",
   "metadata": {},
   "source": [
    "<div style=\"background-color: #c1e8c3 ; padding: 10px;\">\n",
    " <h3><b>exercise :</b></h3>\n",
    "<p></p>  \n",
    "</div>\n",
    "\n",
    "A = 2310 L"
   ]
  },
  {
   "cell_type": "markdown",
   "metadata": {},
   "source": [
    "10. If I have an unknown quantity of gas held at a temperature of 1195 K in a container with a volume of 25 liters and a pressure of 560 atm, how many moles of gas do I have?  143 moles"
   ]
  },
  {
   "cell_type": "markdown",
   "metadata": {},
   "source": [
    "<div style=\"background-color: #BCDBF5 ; padding: 10px;\">\n",
    "    <h2>Instructions:</h2>\n",
    "\n",
    "1. \n",
    "</div>"
   ]
  },
  {
   "cell_type": "code",
   "execution_count": 4,
   "metadata": {},
   "outputs": [
    {
     "name": "stdout",
     "output_type": "stream",
     "text": [
      "n = 143 moles.\n"
     ]
    }
   ],
   "source": [
    "R = 0.0821 #constant in the ideal gas law equation\n",
    "P = 560\n",
    "V = 25\n",
    "T = 1195\n",
    "n = (P*V)/(R*T)\n",
    "print(f\"n = {n:.0f} moles.\")"
   ]
  },
  {
   "cell_type": "markdown",
   "metadata": {},
   "source": [
    "<div style=\"background-color: #c1e8c3 ; padding: 10px;\">\n",
    " <h3><b>exercise :</b></h3>\n",
    "<p></p>  \n",
    "</div>\n",
    "\n",
    "A = 2310 L"
   ]
  },
  {
   "cell_type": "markdown",
   "metadata": {},
   "source": [
    "11. If I have 0.275 moles of gas at a temperature of 75 K and a pressure of 1.75 atmospheres, what is the volume of the gas?  0.97 L\n"
   ]
  },
  {
   "cell_type": "code",
   "execution_count": 6,
   "metadata": {},
   "outputs": [
    {
     "name": "stdout",
     "output_type": "stream",
     "text": [
      "V = 0.97 liters.\n"
     ]
    }
   ],
   "source": [
    "R = 0.0821 #constant in the ideal gas law equation\n",
    "\n",
    "P = 1.75\n",
    "n = .275\n",
    "T = 75\n",
    "V = (n*R*T)/P\n",
    "print(f\"V = {V:.2f} liters.\")"
   ]
  },
  {
   "cell_type": "markdown",
   "metadata": {},
   "source": [
    "12. If I have 72 liters of gas held at a pressure of 3.4 atm and a temperature of 225 K, how many moles of gas do I have?  \n"
   ]
  },
  {
   "cell_type": "markdown",
   "metadata": {},
   "source": [
    "<div style=\"background-color: #c1e8c3 ; padding: 10px;\">\n",
    " <h3><b>exercise :</b></h3>\n",
    "<p></p>  \n",
    "</div>\n",
    "\n",
    "A = 2310 L"
   ]
  },
  {
   "cell_type": "markdown",
   "metadata": {},
   "source": [
    "<div style=\"background-color: #BCDBF5 ; padding: 10px;\">\n",
    "    <h2>Instructions:</h2>\n",
    "\n",
    "1. \n",
    "</div>"
   ]
  },
  {
   "cell_type": "code",
   "execution_count": 7,
   "metadata": {},
   "outputs": [
    {
     "name": "stdout",
     "output_type": "stream",
     "text": [
      "n = 13 moles.\n"
     ]
    }
   ],
   "source": [
    "R = 0.0821 #constant in the ideal gas law equation\n",
    "\n",
    "P = 3.4\n",
    "V = 72\n",
    "T = 225\n",
    "n = (P*V)/(R*T)\n",
    "print(f\"n = {n:.0f} moles.\")"
   ]
  },
  {
   "cell_type": "markdown",
   "metadata": {},
   "source": [
    "<div style=\"background-color: #c1e8c3 ; padding: 10px;\">\n",
    " <h3><b>exercise :</b></h3>\n",
    "<p></p>  \n",
    "</div>\n",
    "\n",
    "A = 2310 L"
   ]
  },
  {
   "cell_type": "markdown",
   "metadata": {},
   "source": [
    "<div style=\"background-color: #BCDBF5 ; padding: 10px;\">\n",
    "    <h2>Instructions:</h2>\n",
    "\n",
    "1. \n",
    "</div>"
   ]
  },
  {
   "cell_type": "code",
   "execution_count": 7,
   "metadata": {},
   "outputs": [
    {
     "name": "stdout",
     "output_type": "stream",
     "text": [
      "What is the unknown variable? (P,V,n,T)T\n",
      "What is the pressure (in atm) of the gas?23\n",
      "What is the volume (in liters) of the gas?343\n",
      "How many moles of the gas are present?1\n",
      "T = 96090.13 degrees K.\n"
     ]
    }
   ],
   "source": [
    "unknown = input(\"What is the unknown variable? (P,V,n,T)\")\n",
    "R = 0.0821 #constant in the ideal gas law equation\n",
    "#PV=nRT\n",
    "\n",
    "if unknown == 'P':\n",
    "    V = float(input(\"What is the volume (in liters) of the gas?\"))\n",
    "    n = float(input(\"How many moles of the gas are in the problem?\"))\n",
    "    T = float(input(\"What is the temperature of the gas (in K?)\"))\n",
    "    P = (n*R*T)/V\n",
    "    print(f\"P = {P:.2f} atm.\")\n",
    "\n",
    "elif unknown == 'n':\n",
    "    P = float(input(\"What is the pressure (in atm) of the gas?\"))\n",
    "    V = float(input(\"What is the volume (in liters) of the gas?\"))\n",
    "    T = float(input(\"What is the temperature of the gas (in K?)\"))\n",
    "    n = (P*V)/(R*T)\n",
    "    print(f\"n = {n:.2f} moles.\")\n",
    "\n",
    "elif unknown == \"V\":\n",
    "    P = float(input(\"What is the pressure (in atm) of the gas?\"))\n",
    "    n = float(input(\"How many moles of the gas?\"))\n",
    "    T = float(input(\"What is the temperature of the gas (in K?)\"))\n",
    "    V = (n*R*T)/P\n",
    "    print(f\"V = {V:.2f} liters.\")        \n",
    "\n",
    "elif unknown == 'T':\n",
    "    P = float(input(\"What is the pressure (in atm) of the gas?\"))\n",
    "    V = float(input(\"What is the volume (in liters) of the gas?\"))\n",
    "    n = float(input(\"How many moles of the gas are present?\"))\n",
    "    T = (P*V)/(R*n)\n",
    "    print(f\"T = {T:.2f} degrees K.\")\n",
    "\n",
    "else:\n",
    "    print(\"Error, please try again. The input is case sensitive.\")     "
   ]
  },
  {
   "cell_type": "code",
   "execution_count": null,
   "metadata": {},
   "outputs": [],
   "source": []
  }
 ],
 "metadata": {
  "kernelspec": {
   "display_name": "Python 3",
   "language": "python",
   "name": "python3"
  },
  "language_info": {
   "codemirror_mode": {
    "name": "ipython",
    "version": 3
   },
   "file_extension": ".py",
   "mimetype": "text/x-python",
   "name": "python",
   "nbconvert_exporter": "python",
   "pygments_lexer": "ipython3",
   "version": "3.7.7"
  }
 },
 "nbformat": 4,
 "nbformat_minor": 2
}
